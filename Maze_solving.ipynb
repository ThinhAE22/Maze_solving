{
  "nbformat": 4,
  "nbformat_minor": 0,
  "metadata": {
    "colab": {
      "provenance": []
    },
    "kernelspec": {
      "name": "python3",
      "display_name": "Python 3"
    },
    "language_info": {
      "name": "python"
    }
  },
  "cells": [
    {
      "cell_type": "markdown",
      "source": [
        "#Create Simple Maze (Assump the start is always on maze[0] (1st row))\n"
      ],
      "metadata": {
        "id": "tKHJAFjQyacx"
      }
    },
    {
      "cell_type": "code",
      "execution_count": 75,
      "metadata": {
        "colab": {
          "base_uri": "https://localhost:8080/"
        },
        "id": "fr-cn133qJgz",
        "outputId": "5d1ac4bd-65e4-44a3-97bf-f7897b1b68a4"
      },
      "outputs": [
        {
          "output_type": "stream",
          "name": "stdout",
          "text": [
            "['#', 'O', '#', '#', '#', '#', 'X', '#', '#', '#']\n",
            "['#', ' ', ' ', ' ', ' ', ' ', ' ', ' ', ' ', '#']\n",
            "['#', ' ', '#', '#', ' ', '#', '#', '#', '#']\n"
          ]
        }
      ],
      "source": [
        "def createMaze():\n",
        "  maze=[]\n",
        "  maze.append([\"#\",\"O\",\"#\",\"#\",\"#\",\"#\",\"X\",\"#\",\"#\",\"#\"])\n",
        "  maze.append([\"#\",\" \",\" \",\" \",\" \",\" \",\" \",\" \",\" \",\"#\"])\n",
        "  maze.append([\"#\",\" \",\"#\",\"#\",\" \",\"#\",\"#\",\"#\",\"#\"])\n",
        "\n",
        "  return maze\n",
        "\n",
        "maze = createMaze()\n",
        "for row in maze:\n",
        "  print(row)"
      ]
    },
    {
      "cell_type": "code",
      "source": [
        "import numpy as np\n",
        "import random\n",
        "\n",
        "def createMaze(w, h):\n",
        "    # Make sure dimensions are odd, so the cursor can not jump from the open edge\n",
        "    if w % 2 == 0: w += 1\n",
        "    if h % 2 == 0: h += 1\n",
        "\n",
        "    # Initialize maze with walls\n",
        "    maze = np.full((w, h), \"#\", dtype='<U1')\n",
        "\n",
        "    # Start point (first row, must be odd column)\n",
        "    start_col = random.randrange(1, h, 2)\n",
        "    maze[0, start_col] = \"O\"\n",
        "\n",
        "    # Recursive backtracking to carve paths\n",
        "    def carve(x, y):\n",
        "        directions = [(0, 2), (0, -2), (2, 0), (-2, 0)]\n",
        "        random.shuffle(directions)\n",
        "        for dx, dy in directions:\n",
        "            nx, ny = x + dx, y + dy\n",
        "            if 1 <= nx < w-1 and 1 <= ny < h-1 and maze[nx, ny] == \"#\":\n",
        "                maze[x + dx//2, y + dy//2] = \" \"  # remove wall between\n",
        "                maze[nx, ny] = \" \"\n",
        "                carve(nx, ny)\n",
        "\n",
        "    # Start carving from the cell below the start\n",
        "    carve(1, start_col)\n",
        "\n",
        "    # Place the end point X anywhere (must be odd row/col)\n",
        "    end_x = random.randrange(1, w, 2)\n",
        "    end_y = random.randrange(1, h, 2)\n",
        "    maze[end_x, end_y] = \"X\"\n",
        "\n",
        "    # Make sure at least one neighbor of X is a path\n",
        "    neighbors = [(end_x-1, end_y), (end_x+1, end_y), (end_x, end_y-1), (end_x, end_y+1)]\n",
        "    for nx, ny in neighbors:\n",
        "        if 0 <= nx < w and 0 <= ny < h and maze[nx, ny] != \"O\":\n",
        "            maze[nx, ny] = \" \"  # clear at least one wall and not clear the start point\n",
        "\n",
        "    return maze\n",
        "\n",
        "# Example usage\n",
        "maze = createMaze(11, 11)\n",
        "for row in maze:\n",
        "    print(row)\n"
      ],
      "metadata": {
        "colab": {
          "base_uri": "https://localhost:8080/"
        },
        "id": "4qsjMzoTypRZ",
        "outputId": "69c2df9d-9b50-4e3d-a34c-856413060f8b"
      },
      "execution_count": 5,
      "outputs": [
        {
          "output_type": "stream",
          "name": "stdout",
          "text": [
            "['#' 'O' '#' '#' '#' '#' '#' '#' '#' '#' '#']\n",
            "['#' ' ' ' ' ' ' ' ' ' ' '#' ' ' ' ' ' ' '#']\n",
            "['#' ' ' '#' '#' '#' ' ' '#' '#' '#' ' ' '#']\n",
            "['#' ' ' '#' ' ' ' ' ' ' '#' ' ' ' ' ' ' '#']\n",
            "['#' '#' '#' ' ' '#' '#' '#' ' ' '#' '#' '#']\n",
            "['#' ' ' '#' ' ' '#' ' ' ' ' ' ' ' ' ' ' '#']\n",
            "['#' ' ' '#' ' ' '#' '#' '#' ' ' '#' ' ' '#']\n",
            "['#' ' ' '#' ' ' ' ' ' ' ' ' 'X' ' ' ' ' '#']\n",
            "['#' ' ' '#' '#' '#' ' ' '#' ' ' '#' ' ' '#']\n",
            "['#' ' ' ' ' ' ' ' ' ' ' ' ' ' ' '#' ' ' '#']\n",
            "['#' '#' '#' '#' '#' '#' '#' '#' '#' '#' '#']\n"
          ]
        }
      ]
    },
    {
      "cell_type": "markdown",
      "source": [
        "#Solve maze"
      ],
      "metadata": {
        "id": "C48GBuv8yWyH"
      }
    },
    {
      "cell_type": "code",
      "source": [
        "def printMaze(maze, path=\"\"):\n",
        "  for x, pos in enumerate(maze[0]):\n",
        "    if pos == \"O\":\n",
        "      start = x #starting position\n",
        "\n",
        "  i = start\n",
        "  j = 0\n",
        "  pos = set()\n",
        "  for move in path:\n",
        "    if move == \"L\":\n",
        "      i -= 1\n",
        "\n",
        "    elif move == \"R\":\n",
        "      i += 1\n",
        "\n",
        "    elif move == \"U\":\n",
        "      j -= 1\n",
        "\n",
        "    elif move == \"D\":\n",
        "      j += 1\n",
        "    pos.add((j, i))\n",
        "\n",
        "  for j, row in enumerate(maze):\n",
        "    for i, col in enumerate(row):\n",
        "      if (j, i) in pos:\n",
        "        print(\"+ \", end=\"\")\n",
        "      else:\n",
        "        print(col + \" \", end=\"\")\n",
        "    print()"
      ],
      "metadata": {
        "id": "hMNuR6IDqtcA"
      },
      "execution_count": 6,
      "outputs": []
    },
    {
      "cell_type": "code",
      "source": [
        "def valid(maze, moves):\n",
        "  for x, pos in enumerate(maze[0]):\n",
        "    if pos == \"O\":\n",
        "      start = x\n",
        "\n",
        "  i = start\n",
        "  j = 0\n",
        "  for move in moves:\n",
        "    if move == \"L\":\n",
        "      i -= 1\n",
        "    elif move == \"R\":\n",
        "      i += 1\n",
        "    elif move == \"U\":\n",
        "      j -= 1\n",
        "    else:\n",
        "      j += 1\n",
        "\n",
        "    if not(0 <= i < len(maze[0]) and 0 <= j < len(maze)):\n",
        "      return False\n",
        "    elif (maze[j][i] == \"#\"):\n",
        "      return False\n",
        "\n",
        "  return True"
      ],
      "metadata": {
        "id": "JVhWa0EAwRLD"
      },
      "execution_count": 7,
      "outputs": []
    },
    {
      "cell_type": "code",
      "source": [
        "def findEnd(maze, moves):\n",
        "  for x, pos in enumerate(maze[0]):\n",
        "    if pos == \"O\":\n",
        "      start = x\n",
        "  i = start\n",
        "  j = 0\n",
        "  for move in moves:\n",
        "    if move == \"L\":\n",
        "      i -= 1\n",
        "    elif move == \"R\":\n",
        "      i += 1\n",
        "    elif move == \"U\":\n",
        "      j -= 1\n",
        "    else:\n",
        "      j += 1\n",
        "\n",
        "  if maze[j][i] == \"X\":\n",
        "    print(\"Found: \" + moves)\n",
        "    printMaze(maze, moves)\n",
        "    return True\n",
        "\n",
        "  return False"
      ],
      "metadata": {
        "id": "CmUwLD82wpta"
      },
      "execution_count": 8,
      "outputs": []
    },
    {
      "cell_type": "code",
      "source": [
        "import queue\n",
        "\n",
        "nums = queue.Queue()\n",
        "nums.put(\"\")\n",
        "add=\"\"\n",
        "maze=createMaze(11,11)\n",
        "\n",
        "while not findEnd(maze, add):\n",
        "  add = nums.get()\n",
        "  #print(add) #(try everything)\n",
        "  for j in [\"L\", \"R\", \"U\", \"D\"]:\n",
        "    put = add + j\n",
        "    if valid(maze, put):\n",
        "      #print(put)\n",
        "      nums.put(put)"
      ],
      "metadata": {
        "colab": {
          "base_uri": "https://localhost:8080/"
        },
        "id": "St89Un_6w8l0",
        "outputId": "66669d19-af8d-43ba-900c-77aaa5c47619"
      },
      "execution_count": 31,
      "outputs": [
        {
          "output_type": "stream",
          "name": "stdout",
          "text": [
            "Found: DLLDDRRDDRRDDLLDDLL\n",
            "# # # # # O # # # # # \n",
            "#   # + + +     #   # \n",
            "#   # + # # # # #   # \n",
            "#   # + + + #       # \n",
            "#   # # # + # # #   # \n",
            "#       # + + + #   # \n",
            "#   #   # # # + #   # \n",
            "#   #   # + + + #   # \n",
            "#   #   # + # # #   # \n",
            "#     + + +         # \n",
            "# # #   # # # # # # # \n"
          ]
        }
      ]
    }
  ]
}